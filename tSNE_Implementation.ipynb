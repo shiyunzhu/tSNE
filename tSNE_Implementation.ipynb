{
  "nbformat": 4,
  "nbformat_minor": 0,
  "metadata": {
    "colab": {
      "name": "tSNE Implementation.ipynb",
      "provenance": [],
      "collapsed_sections": [],
      "authorship_tag": "ABX9TyODqAsQEjl8MrNHv82xc8fF",
      "include_colab_link": true
    },
    "kernelspec": {
      "name": "python3",
      "display_name": "Python 3"
    }
  },
  "cells": [
    {
      "cell_type": "markdown",
      "metadata": {
        "id": "view-in-github",
        "colab_type": "text"
      },
      "source": [
        "<a href=\"https://colab.research.google.com/github/shiyunzhu/tSNE/blob/master/tSNE_Implementation.ipynb\" target=\"_parent\"><img src=\"https://colab.research.google.com/assets/colab-badge.svg\" alt=\"Open In Colab\"/></a>"
      ]
    },
    {
      "cell_type": "markdown",
      "metadata": {
        "id": "mjezngbk1xkn",
        "colab_type": "text"
      },
      "source": [
        "# tSNE Implementation\n",
        "Shiyun Zhu\n",
        "\n",
        "## Problem 1\n",
        "First, we will implement the tSNE algorithm"
      ]
    },
    {
      "cell_type": "code",
      "metadata": {
        "id": "UdaFXO4x3pvG",
        "colab_type": "code",
        "colab": {}
      },
      "source": [
        "import numpy as np\n",
        "from sklearn.metrics.pairwise import euclidean_distances\n",
        "from scipy.spatial import distance_matrix\n",
        "import scipy.optimize as opt\n",
        "import matplotlib.pyplot as plt\n",
        "from mpl_toolkits.mplot3d import Axes3D\n",
        "from sklearn.decomposition import PCA"
      ],
      "execution_count": 0,
      "outputs": []
    },
    {
      "cell_type": "markdown",
      "metadata": {
        "id": "FiCVUp9f6oSO",
        "colab_type": "text"
      },
      "source": [
        "First, let us write some helper functions that we will need to use for the main function."
      ]
    },
    {
      "cell_type": "code",
      "metadata": {
        "id": "siWqcDds5yN1",
        "colab_type": "code",
        "colab": {}
      },
      "source": [
        "def pji(x_dist, i, j, sigmai):\n",
        "    '''\n",
        "        This function calculates the pji \n",
        "    '''\n",
        "    if i == j:\n",
        "        return 0\n",
        "    num = np.exp(-x_dist[i, j]/(2 * sigmai**2))\n",
        "    den = np.sum(np.exp(-x_dist[i, :] / (2 * sigmai**2))) - 1\n",
        "    \n",
        "    if den == 0 and num == 0:\n",
        "        return 0\n",
        "    elif den == 0:\n",
        "        return num / 1e-9\n",
        "\n",
        "    return num / den"
      ],
      "execution_count": 0,
      "outputs": []
    },
    {
      "cell_type": "markdown",
      "metadata": {
        "id": "8PhDc7x5a-yc",
        "colab_type": "text"
      },
      "source": [
        "I am going to use the scipy minimize_scalar function to find the optimal sigma for each data point $i$ so I will need to first write the function that will be minimized. This function below calculates the absolute value of the difference between the $Perp$ and $2^{H(i)}$ where $H(i)$ is the shannon entropy."
      ]
    },
    {
      "cell_type": "code",
      "metadata": {
        "id": "iqPh4FmL4HMY",
        "colab_type": "code",
        "colab": {}
      },
      "source": [
        "def diff_fun(sigma, x_dist, i, perp):\n",
        "    '''\n",
        "        This function calculates the difference between the perp and the shannon\n",
        "        entropy given a particular i and sigma. This function is used in\n",
        "        minimization functions later.\n",
        "    '''\n",
        "    N = len(x_dist)\n",
        "    H_i = 0\n",
        "    den = np.sum(np.exp(-x_dist[i, :] / (2 * sigma**2))) - 1\n",
        "    for j in range(N):\n",
        "        num = np.exp(-x_dist[i, j]/(2 * sigma**2))\n",
        "        # Note that there are going to be many situations where if the value\n",
        "        # is zero, there will be an error so we need to catch all of these\n",
        "        # situations.\n",
        "        if i == j:\n",
        "            p_ji = 0\n",
        "        elif num == 0 and den == 0:\n",
        "            p_ji = 0\n",
        "        elif den == 0:\n",
        "            p_ji = num/1e-9\n",
        "        else:\n",
        "            p_ji = num/den\n",
        "\n",
        "        if p_ji != 0:\n",
        "            H_i -= p_ji * np.log2(p_ji)\n",
        "    return np.abs(perp - 2**H_i)"
      ],
      "execution_count": 0,
      "outputs": []
    },
    {
      "cell_type": "markdown",
      "metadata": {
        "id": "dqERK1PAbm4Z",
        "colab_type": "text"
      },
      "source": [
        "Now, that we have the function to minimize, we can write the function that will calculate all of the pairwise affinities. It will go through each point and minimize the above function to find the optimal sigma for that point. Then, it will calculate the $p_{j|i}$ using the optimal sigma."
      ]
    },
    {
      "cell_type": "code",
      "metadata": {
        "colab_type": "code",
        "id": "Qe5-o4N245BJ",
        "colab": {}
      },
      "source": [
        "def pairwise_affinities(X, perp):\n",
        "    '''\n",
        "        This function calculates the pairwise affinities and chooses the sigmas\n",
        "        for each i such that it is related to the perp value. We will use the\n",
        "        scipy minimize_scalar function to find the sigma that minimizes the\n",
        "        function diff_fun.\n",
        "        ------------------------------------------------------------------------\n",
        "        Parameters:\n",
        "        X - data\n",
        "        perp - perplexity value\n",
        "        ------------------------------------------------------------------------\n",
        "        Returns:\n",
        "        p - the pairwise affinities (not symmetric)\n",
        "    '''\n",
        "    N = len(X)\n",
        "    p = np.zeros((N, N))\n",
        "    # This will give us the distance matrix, with each valued squared\n",
        "    x_dist = euclidean_distances(X, squared=True)\n",
        "    avg_diff = 0\n",
        "    for i in range(N):\n",
        "\n",
        "        res = opt.minimize_scalar(\n",
        "            fun = diff_fun,\n",
        "            bounds = (0.1, 50),\n",
        "            args=(x_dist, i, perp),\n",
        "            method='bounded',\n",
        "            options={\n",
        "                'maxiter' : 1e3\n",
        "            }\n",
        "        )\n",
        "        \n",
        "        sigma = res.x\n",
        "        avg_diff += diff_fun(sigma, x_dist, i, perp)\n",
        "        for j in range(N):\n",
        "            p[i, j] = pji(x_dist, i, j, sigma)\n",
        "\n",
        "        if (i + 1) % (N/10) == 0:\n",
        "            print('=', end='')\n",
        "    \n",
        "    print()\n",
        "    print('Average diff is', avg_diff / N)\n",
        "    return p"
      ],
      "execution_count": 0,
      "outputs": []
    },
    {
      "cell_type": "markdown",
      "metadata": {
        "id": "8HhbJNYScHhd",
        "colab_type": "text"
      },
      "source": [
        "Now, we need a function to complete this operation:\n",
        "$$p_{ij} = \\frac{p_{j|i} + p_{i|j}}{2n}$$"
      ]
    },
    {
      "cell_type": "code",
      "metadata": {
        "id": "ViGAk7aEVbZJ",
        "colab_type": "code",
        "colab": {}
      },
      "source": [
        "def symmetric_p(p):\n",
        "    '''\n",
        "       This function takes the pairwise affinities and makes them symmetric\n",
        "       -------------------------------------------------------------------------\n",
        "       Parameters:\n",
        "       p - the N by N array of pairwise affinities.\n",
        "       -------------------------------------------------------------------------\n",
        "       Return:\n",
        "       P - the symmetric affinities where P(i,j) = (p(i,j) + p(j,i)) / (2n)\n",
        "    '''\n",
        "    P = np.zeros(p.shape)\n",
        "    n = len(p)\n",
        "    for i in range(n):\n",
        "        for j in range(n):\n",
        "            if i != j:\n",
        "                P[i, j] = (p[i, j] + p[j, i]) / (2 * n)\n",
        "    return P"
      ],
      "execution_count": 0,
      "outputs": []
    },
    {
      "cell_type": "markdown",
      "metadata": {
        "id": "QiWqwsCZccF_",
        "colab_type": "text"
      },
      "source": [
        "Now, we need a function to calculate the lower dimension affinity using the student t's distribution. "
      ]
    },
    {
      "cell_type": "code",
      "metadata": {
        "id": "Nhy5twQjWhji",
        "colab_type": "code",
        "colab": {}
      },
      "source": [
        "def calc_Q(Y):\n",
        "    '''\n",
        "        This function takes the Y and calculates the lower dimension affinities\n",
        "        ------------------------------------------------------------------------\n",
        "        Parameters:\n",
        "        Y - the lower dimension embedding\n",
        "        ------------------------------------------------------------------------\n",
        "        Return:\n",
        "        Q - the lower dimension affinity\n",
        "    '''\n",
        "    y_dist = euclidean_distances(Y, squared=True)\n",
        "    num = 1 / (1 + y_dist)\n",
        "    den = np.sum(1 / (1 + y_dist)) - np.trace(1 / (1 + y_dist))\n",
        "    Q = np.divide(num, den)\n",
        "\n",
        "    for i in range(len(Y)):\n",
        "        Q[i, i] = 0\n",
        "    \n",
        "    return Q"
      ],
      "execution_count": 0,
      "outputs": []
    },
    {
      "cell_type": "markdown",
      "metadata": {
        "id": "v6vN9-oecjK0",
        "colab_type": "text"
      },
      "source": [
        "We also need a function to calculate the gradient of the cost function that we will use during gradient descent."
      ]
    },
    {
      "cell_type": "code",
      "metadata": {
        "id": "CVErdNV8SAme",
        "colab_type": "code",
        "colab": {}
      },
      "source": [
        "def gradi(Y, P, Q, i):\n",
        "    '''\n",
        "       This function calculates the gradient of the cost function with respect\n",
        "       to y_i\n",
        "    '''\n",
        "    N = len(Y)\n",
        "    y_dist = euclidean_distances(Y, squared=True)\n",
        "    grad = 0\n",
        "    for j in range(N):\n",
        "        grad += (P[i,j] - Q[i,j]) * (Y[i, :] - Y[j, :]) / (1 + y_dist[i, j])\n",
        "\n",
        "    return 4 * grad"
      ],
      "execution_count": 0,
      "outputs": []
    },
    {
      "cell_type": "markdown",
      "metadata": {
        "id": "X2AGLNpEcyVL",
        "colab_type": "text"
      },
      "source": [
        "Finally, we need a function to calculate the cost. This function isn't necessary for the basic tSNE algorithm, but it is important to be able to know what the cost is and to use for an adaptive learning rate. The adaptive learning rate scheme is taken from [mathworks](https://www.mathworks.com/help/deeplearning/ref/traingda.html) and works as follows. If the cost is greater than the previous cost by a factor of 1.05, then we will decrease the learning rate by multiplying it by 0.7 and discard the changes to Y. If it is less than the previous cost, then we multiply the learning rate by 1.05. This way, we should be able to find a large enough learning rate that doesn't mess up the cost."
      ]
    },
    {
      "cell_type": "code",
      "metadata": {
        "id": "hGU6IkBdNbkU",
        "colab_type": "code",
        "colab": {}
      },
      "source": [
        "def calc_cost(P, Q, N):\n",
        "    '''\n",
        "        This function calculates the cost given the P and Q, where the cost is\n",
        "        the KL divergence.\n",
        "        ------------------------------------------------------------------------\n",
        "        Parameters:\n",
        "        P - the high dimensional affinities\n",
        "        Q - the low dimensional affinities\n",
        "        N - the number of data points\n",
        "        ------------------------------------------------------------------------\n",
        "        Returns:\n",
        "        cost - the calculated total cost summed over every i and j\n",
        "    '''\n",
        "    cost = 0\n",
        "    for i in range(N):\n",
        "        for j in range(N):\n",
        "            if i != j and P[i,j]/Q[i,j] != 0:\n",
        "                cost += P[i, j] * np.log(P[i, j]/Q[i,j])\n",
        "    return cost"
      ],
      "execution_count": 0,
      "outputs": []
    },
    {
      "cell_type": "code",
      "metadata": {
        "id": "BjfRdrnc14GB",
        "colab_type": "code",
        "colab": {}
      },
      "source": [
        "def tSNE(X, perp=5, num_iter=1, num_dim=2, lr=10, adaptive=True, noise=True,\n",
        "         patience=2, max_diff=1e-15):\n",
        "    '''\n",
        "       This function takes a dataset X and returns a 2D embedding using the\n",
        "       tSNE algorithm.\n",
        "       -------------------------------------------------------------------------\n",
        "       Parameters:\n",
        "       X - a N by D dimensional array of data (N data points, each in D\n",
        "           dimensions)\n",
        "       perp - the perplexity used to calculate sigma\n",
        "       num_iter - the number of iterations to run the optimization for\n",
        "       num_dim - the number of dimensions in the resulting embedding, default is\n",
        "                 two dimensions\n",
        "       lr - the starting learning rate, default is 10\n",
        "       adaptive - boolean indicating usage of adaptive learning rate\n",
        "       noise - boolean indicating usage of noisy gradient descent\n",
        "       patience - number of iterations where stability is found before breaking\n",
        "       max_diff - max difference tolerated to be considered the same\n",
        "       -------------------------------------------------------------------------\n",
        "       Return:\n",
        "       Y - a N by num_dim array of the resulting embedding\n",
        "    '''\n",
        "    N = len(X)\n",
        "    Y = np.random.normal(0, 1e-4, (N, num_dim))\n",
        "    prev_cost = 0\n",
        "    cost = 10000\n",
        "    stable = 0 # counts the number of iters the cost stops changing\n",
        "\n",
        "    print('Computing a', num_dim, 'dimensional embedding of', N, 'data points')\n",
        "\n",
        "    # Compute pairwise affinities with perplexity perp\n",
        "    print('Starting to calculate pairwise affinities...')\n",
        "    p = pairwise_affinities(X, perp)\n",
        "\n",
        "    # Set pij = ...\n",
        "    P = symmetric_p(p)\n",
        "    print('Starting optimization...')\n",
        "    for it in range(num_iter):\n",
        "        # compute low dimensional affinities qij\n",
        "        Q = calc_Q(Y)\n",
        "\n",
        "        # compute gradient\n",
        "        Grad = np.zeros((N, num_dim))\n",
        "        for i in range(N):\n",
        "            Grad[i, :] = gradi(Y, P, Q, i)\n",
        "            \n",
        "        # add noise to gradient\n",
        "        if noise:\n",
        "            Grad += np.random.normal(0, 1e-9, (N, num_dim))\n",
        "\n",
        "        # update y\n",
        "        Y_temp = np.copy(Y)\n",
        "        for i in range(N):\n",
        "            Y[i, :] -= lr * Grad[i, :]\n",
        "        \n",
        "        prev_cost = cost\n",
        "        cost = calc_cost(P, Q, N)\n",
        "\n",
        "        if adaptive:\n",
        "            if cost > 1.05 * prev_cost:\n",
        "                lr *= 0.7\n",
        "                Y = Y_temp\n",
        "            elif cost < prev_cost:\n",
        "                lr *= 1.05\n",
        "\n",
        "        if np.abs(cost - prev_cost) < max_diff:\n",
        "            stable += 1\n",
        "        else:\n",
        "            stable = 0\n",
        "\n",
        "        if stable == patience:\n",
        "            break\n",
        "\n",
        "        if (it + 1) % (num_iter/10) == 0:\n",
        "            print('=', end='')\n",
        "    print()\n",
        "    print('The algorithm has finished')\n",
        "    print('The end learning rate is', lr)\n",
        "    print('The end cost is', cost)\n",
        "    return Y"
      ],
      "execution_count": 0,
      "outputs": []
    },
    {
      "cell_type": "markdown",
      "metadata": {
        "id": "E7IzGZNHRDkA",
        "colab_type": "text"
      },
      "source": [
        "## Tests\n",
        "Now we will generate a data set with 3 parts and 300 points in total."
      ]
    },
    {
      "cell_type": "code",
      "metadata": {
        "id": "LW8u4SxjoBOG",
        "colab_type": "code",
        "outputId": "8a4e80b6-a441-449a-9d65-9369dd38b6fd",
        "colab": {
          "base_uri": "https://localhost:8080/",
          "height": 35
        }
      },
      "source": [
        "D = 10\n",
        "np.random.seed(2020)\n",
        "X1 = np.random.multivariate_normal(np.zeros(D), 5 * np.identity(D), size=100)\n",
        "X2 = np.random.multivariate_normal(np.ones(D) * 20, 5 * np.identity(D), size=100)\n",
        "X3 = np.random.multivariate_normal(np.ones(D) * -20, 5 * np.identity(D), size=100)\n",
        "X = np.concatenate((X1, X2, X3), axis=0)\n",
        "print(X.shape)"
      ],
      "execution_count": 0,
      "outputs": [
        {
          "output_type": "stream",
          "text": [
            "(300, 10)\n"
          ],
          "name": "stdout"
        }
      ]
    },
    {
      "cell_type": "markdown",
      "metadata": {
        "id": "8Opr4OevUd8A",
        "colab_type": "text"
      },
      "source": [
        "We will run tSNE with perplexity = 5"
      ]
    },
    {
      "cell_type": "code",
      "metadata": {
        "id": "s7OGIlSooNAD",
        "colab_type": "code",
        "outputId": "f6aad8ae-8ba6-433e-c26e-49b078d0af09",
        "colab": {
          "base_uri": "https://localhost:8080/",
          "height": 451
        }
      },
      "source": [
        "Y = tSNE(X, perp=5, num_iter=500)\n",
        "plt.figure()\n",
        "plt.scatter(Y[:,0], Y[:,1])\n",
        "plt.title('tSNE plot with Perp=5')\n",
        "plt.xlabel('tSNE 1')\n",
        "plt.ylabel('tSNE 2')\n",
        "plt.show()"
      ],
      "execution_count": 0,
      "outputs": [
        {
          "output_type": "stream",
          "text": [
            "Computing a 2 dimensional embedding of 300 data points\n",
            "Starting to calculate pairwise affinities...\n",
            "==========\n",
            "Average diff is 9.60049306385713e-06\n",
            "Starting optimization...\n",
            "==========\n",
            "The algorithm has finished\n",
            "The end learning rate is 1180.7277581673923\n",
            "The end cost is 1.361884041299772\n"
          ],
          "name": "stdout"
        },
        {
          "output_type": "display_data",
          "data": {
            "image/png": "[encoded data removed]",
            "text/plain": [
              "<Figure size 432x288 with 1 Axes>"
            ]
          },
          "metadata": {
            "tags": []
          }
        }
      ]
    },
    {
      "cell_type": "markdown",
      "metadata": {
        "id": "GXxe9NH9UnSD",
        "colab_type": "text"
      },
      "source": [
        "Now we will run tSNE on the same data with perplexity 20."
      ]
    },
    {
      "cell_type": "code",
      "metadata": {
        "colab_type": "code",
        "outputId": "d82323f5-0604-40fd-ffad-7e1b234fdde3",
        "id": "l0XCp0H2Rc6l",
        "colab": {
          "base_uri": "https://localhost:8080/",
          "height": 451
        }
      },
      "source": [
        "Y = tSNE(X, perp=20, num_iter=500)\n",
        "plt.figure()\n",
        "plt.scatter(Y[:,0], Y[:,1])\n",
        "plt.title('tSNE plot with Perp=20')\n",
        "plt.xlabel('tSNE 1')\n",
        "plt.ylabel('tSNE 2')\n",
        "plt.show()"
      ],
      "execution_count": 0,
      "outputs": [
        {
          "output_type": "stream",
          "text": [
            "Computing a 2 dimensional embedding of 300 data points\n",
            "Starting to calculate pairwise affinities...\n",
            "==========\n",
            "Average diff is 2.7824335899317987e-05\n",
            "Starting optimization...\n",
            "==========\n",
            "The algorithm has finished\n",
            "The end learning rate is 46786.96109658566\n",
            "The end cost is 4.00180960099883\n"
          ],
          "name": "stdout"
        },
        {
          "output_type": "display_data",
          "data": {
            "image/png": "[encoded data removed]",
            "text/plain": [
              "<Figure size 432x288 with 1 Axes>"
            ]
          },
          "metadata": {
            "tags": []
          }
        }
      ]
    },
    {
      "cell_type": "markdown",
      "metadata": {
        "id": "CgWfjAWeVnpd",
        "colab_type": "text"
      },
      "source": [
        "### Tests of Variation vs Data Points\n",
        "Now lets plot the PCA projection."
      ]
    },
    {
      "cell_type": "code",
      "metadata": {
        "id": "bqtbVdUu4stP",
        "colab_type": "code",
        "outputId": "72214f25-9673-4926-8594-d7ab118c3a22",
        "colab": {
          "base_uri": "https://localhost:8080/",
          "height": 283
        }
      },
      "source": [
        "pca = PCA(n_components=2)\n",
        "pca_Y = pca.fit_transform(X)\n",
        "plt.figure()\n",
        "plt.scatter(pca_Y[:,0], pca_Y[:,1])"
      ],
      "execution_count": 0,
      "outputs": [
        {
          "output_type": "execute_result",
          "data": {
            "text/plain": [
              "<matplotlib.collections.PathCollection at 0x7f821bfbc518>"
            ]
          },
          "metadata": {
            "tags": []
          },
          "execution_count": 14
        },
        {
          "output_type": "display_data",
          "data": {
            "image/png": "[encoded data removed]",
            "text/plain": [
              "<Figure size 432x288 with 1 Axes>"
            ]
          },
          "metadata": {
            "tags": []
          }
        }
      ]
    },
    {
      "cell_type": "code",
      "metadata": {
        "id": "n49xgjJqoOU6",
        "colab_type": "code",
        "outputId": "13d7d66e-6cc7-4564-f154-a0f545a09a45",
        "colab": {
          "base_uri": "https://localhost:8080/",
          "height": 35
        }
      },
      "source": [
        "D = 10\n",
        "np.random.seed(2020)\n",
        "X1 = np.random.multivariate_normal(np.zeros(D), 10 * np.identity(D), size=100)\n",
        "X2 = np.random.multivariate_normal(np.ones(D) * 20, np.identity(D), size=100)\n",
        "X3 = np.random.multivariate_normal(np.ones(D) * -20, np.identity(D), size=100)\n",
        "X = np.concatenate((X1, X2, X3), axis=0)\n",
        "print(X.shape)"
      ],
      "execution_count": 0,
      "outputs": [
        {
          "output_type": "stream",
          "text": [
            "(300, 10)\n"
          ],
          "name": "stdout"
        }
      ]
    },
    {
      "cell_type": "code",
      "metadata": {
        "id": "bnvyisTo4Rcb",
        "colab_type": "code",
        "outputId": "5816b705-7e6d-4b90-f17a-66bb2eb47730",
        "colab": {
          "base_uri": "https://localhost:8080/",
          "height": 451
        }
      },
      "source": [
        "Y = tSNE(X, perp=5, num_iter=500, lr=10)\n",
        "plt.figure()\n",
        "plt.scatter(Y[:,0], Y[:,1])\n",
        "plt.title('tSNE plot with Perp=5')\n",
        "plt.xlabel('tSNE 1')\n",
        "plt.ylabel('tSNE 2')\n",
        "plt.show()"
      ],
      "execution_count": 0,
      "outputs": [
        {
          "output_type": "stream",
          "text": [
            "Computing a 2 dimensional embedding of 300 data points\n",
            "Starting to calculate pairwise affinities...\n",
            "==========\n",
            "Average diff is 1.7586873364097145e-05\n",
            "Starting optimization...\n",
            "==========\n",
            "The algorithm has finished\n",
            "The end learning rate is 881.0772323807573\n",
            "The end cost is 1.2415896045285169\n"
          ],
          "name": "stdout"
        },
        {
          "output_type": "display_data",
          "data": {
            "image/png": "[encoded data removed]",
            "text/plain": [
              "<Figure size 432x288 with 1 Axes>"
            ]
          },
          "metadata": {
            "tags": []
          }
        }
      ]
    },
    {
      "cell_type": "code",
      "metadata": {
        "id": "JIdwAo-bXC0b",
        "colab_type": "code",
        "outputId": "a0551938-6a3c-4ad8-8977-190d860c7675",
        "colab": {
          "base_uri": "https://localhost:8080/",
          "height": 451
        }
      },
      "source": [
        "Y = tSNE(X, perp=10, num_iter=500, lr=100)\n",
        "plt.figure()\n",
        "plt.scatter(Y[:,0], Y[:,1])\n",
        "plt.title('tSNE plot with Perp=10')\n",
        "plt.xlabel('tSNE 1')\n",
        "plt.ylabel('tSNE 2')\n",
        "plt.show()"
      ],
      "execution_count": 0,
      "outputs": [
        {
          "output_type": "stream",
          "text": [
            "Computing a 2 dimensional embedding of 300 data points\n",
            "Starting to calculate pairwise affinities...\n",
            "==========\n",
            "Average diff is 3.2373733231055485e-05\n",
            "Starting optimization...\n",
            "==========\n",
            "The algorithm has finished\n",
            "The end learning rate is 54859.820004550864\n",
            "The end cost is 4.6000917333551\n"
          ],
          "name": "stdout"
        },
        {
          "output_type": "display_data",
          "data": {
            "image/png": "[encoded data removed]",
            "text/plain": [
              "<Figure size 432x288 with 1 Axes>"
            ]
          },
          "metadata": {
            "tags": []
          }
        }
      ]
    },
    {
      "cell_type": "code",
      "metadata": {
        "id": "cMPgdLUHWfFx",
        "colab_type": "code",
        "outputId": "b7cdc5d5-7091-4ba1-b8e1-700fc4b1aeeb",
        "colab": {
          "base_uri": "https://localhost:8080/",
          "height": 283
        }
      },
      "source": [
        "pca = PCA(n_components=2)\n",
        "pca_Y = pca.fit_transform(X)\n",
        "plt.figure()\n",
        "plt.scatter(pca_Y[:,0], pca_Y[:,1])"
      ],
      "execution_count": 0,
      "outputs": [
        {
          "output_type": "execute_result",
          "data": {
            "text/plain": [
              "<matplotlib.collections.PathCollection at 0x7f821be6ad30>"
            ]
          },
          "metadata": {
            "tags": []
          },
          "execution_count": 18
        },
        {
          "output_type": "display_data",
          "data": {
            "image/png": "[encoded data removed]",
            "text/plain": [
              "<Figure size 432x288 with 1 Axes>"
            ]
          },
          "metadata": {
            "tags": []
          }
        }
      ]
    },
    {
      "cell_type": "code",
      "metadata": {
        "id": "RJbazc7NXPyp",
        "colab_type": "code",
        "outputId": "ee32718a-f1c4-4c3a-a3b7-489cd868c232",
        "colab": {
          "base_uri": "https://localhost:8080/",
          "height": 35
        }
      },
      "source": [
        "D = 10\n",
        "np.random.seed(2020)\n",
        "X1 = np.random.multivariate_normal(np.zeros(D), 5 * np.identity(D), size=100)\n",
        "X2 = np.random.multivariate_normal(np.ones(D) * 20, 5 * np.identity(D), size=50)\n",
        "X3 = np.random.multivariate_normal(np.ones(D) * -20, 5 * np.identity(D), size=50)\n",
        "X = np.concatenate((X1, X2, X3), axis=0)\n",
        "print(X.shape)"
      ],
      "execution_count": 0,
      "outputs": [
        {
          "output_type": "stream",
          "text": [
            "(200, 10)\n"
          ],
          "name": "stdout"
        }
      ]
    },
    {
      "cell_type": "code",
      "metadata": {
        "id": "HhWQnDVRXnfk",
        "colab_type": "code",
        "outputId": "d59df82b-0175-4bb7-c8f1-a22f34a5960f",
        "colab": {
          "base_uri": "https://localhost:8080/",
          "height": 451
        }
      },
      "source": [
        "Y = tSNE(X, perp=10, num_iter=500, lr=100)\n",
        "plt.figure()\n",
        "plt.scatter(Y[:,0], Y[:,1])\n",
        "plt.title('tSNE plot with Perp=10')\n",
        "plt.xlabel('tSNE 1')\n",
        "plt.ylabel('tSNE 2')\n",
        "plt.show()"
      ],
      "execution_count": 0,
      "outputs": [
        {
          "output_type": "stream",
          "text": [
            "Computing a 2 dimensional embedding of 200 data points\n",
            "Starting to calculate pairwise affinities...\n",
            "==========\n",
            "Average diff is 1.4131317919687803e-05\n",
            "Starting optimization...\n",
            "==========\n",
            "The algorithm has finished\n",
            "The end learning rate is 849.9361927526456\n",
            "The end cost is 1.5498334554582003\n"
          ],
          "name": "stdout"
        },
        {
          "output_type": "display_data",
          "data": {
            "image/png": "[encoded data removed]",
            "text/plain": [
              "<Figure size 432x288 with 1 Axes>"
            ]
          },
          "metadata": {
            "tags": []
          }
        }
      ]
    },
    {
      "cell_type": "code",
      "metadata": {
        "id": "8YOvax9FXoXo",
        "colab_type": "code",
        "outputId": "f28c12ac-2d30-4541-a7d6-9ee5cc99c7d0",
        "colab": {
          "base_uri": "https://localhost:8080/",
          "height": 451
        }
      },
      "source": [
        "Y = tSNE(X, perp=5, num_iter=500, lr=10)\n",
        "plt.figure()\n",
        "plt.scatter(Y[:,0], Y[:,1])\n",
        "plt.title('tSNE plot with Perp=5')\n",
        "plt.xlabel('tSNE 1')\n",
        "plt.ylabel('tSNE 2')\n",
        "plt.show()"
      ],
      "execution_count": 0,
      "outputs": [
        {
          "output_type": "stream",
          "text": [
            "Computing a 2 dimensional embedding of 200 data points\n",
            "Starting to calculate pairwise affinities...\n",
            "==========\n",
            "Average diff is 9.691880233395622e-06\n",
            "Starting optimization...\n",
            "==========\n",
            "The algorithm has finished\n",
            "The end learning rate is 417.4434263038151\n",
            "The end cost is 0.9676979838056228\n"
          ],
          "name": "stdout"
        },
        {
          "output_type": "display_data",
          "data": {
            "image/png": "[encoded data removed]",
            "text/plain": [
              "<Figure size 432x288 with 1 Axes>"
            ]
          },
          "metadata": {
            "tags": []
          }
        }
      ]
    },
    {
      "cell_type": "code",
      "metadata": {
        "id": "tUHmQltEXqzg",
        "colab_type": "code",
        "outputId": "d51491ab-4bf3-4567-b4e5-d57dfb3db403",
        "colab": {
          "base_uri": "https://localhost:8080/",
          "height": 283
        }
      },
      "source": [
        "pca = PCA(n_components=2)\n",
        "pca_Y = pca.fit_transform(X)\n",
        "plt.figure()\n",
        "plt.scatter(pca_Y[:,0], pca_Y[:,1])"
      ],
      "execution_count": 0,
      "outputs": [
        {
          "output_type": "execute_result",
          "data": {
            "text/plain": [
              "<matplotlib.collections.PathCollection at 0x7f821bd2a048>"
            ]
          },
          "metadata": {
            "tags": []
          },
          "execution_count": 22
        },
        {
          "output_type": "display_data",
          "data": {
            "image/png": "[encoded data removed]",
            "text/plain": [
              "<Figure size 432x288 with 1 Axes>"
            ]
          },
          "metadata": {
            "tags": []
          }
        }
      ]
    },
    {
      "cell_type": "markdown",
      "metadata": {
        "id": "O36p49rgsv0l",
        "colab_type": "text"
      },
      "source": [
        "Looking at the above plots, we see that the variance is preserved in the PCA but not the tSNE. The PCA plot clearly shows one group, the center one with higher variance but the tSNE plot displays them all with the same size. This is because in tSNE, there isn't a linear mapping of distances. Points really far apart, far apart enough to be in different groups will stay as different groups but points close together will all have a similar separation in the low dimensional mapping. Thus, that is why in part D, when we instead have a higher number of points, we see that cluster having a larger presence in the tSNE, but not a higher variance in the PCA plot."
      ]
    }
  ]
}